{
 "cells": [
  {
   "cell_type": "markdown",
   "id": "fee3bc51-add6-42fb-ab33-972cafd56dfa",
   "metadata": {
    "tags": []
   },
   "source": [
    "<div style=\"background-color: #ffffff; padding: 20px; font-size: 28px; font-weight: bold; text-align: center; border-radius: 10px; box-shadow: 0 4px 8px rgba(0, 0, 0, 0.1);\">\n",
    "  <span style=\"color: #4CAF50;\">Machine Learning Solutions for the Production of Structure Statistics</span>\n",
    "</div>\n",
    "\n",
    "---------------------------------------------------------------------------------------------------------------------------------"
   ]
  },
  {
   "cell_type": "markdown",
   "id": "75883ae9-2ab0-4b0e-933a-72f6a99229bc",
   "metadata": {
    "tags": []
   },
   "source": [
    "# Table of Contents\n",
    "\n",
    "<div style=\"background-color: #f9f9f9; border: 2px solid #4CAF50; border-radius: 10px; padding: 20px;\">\n",
    "\n",
    "### | [Imports](#imports) |\n",
    "<ul>\n",
    "  <li><strong>Import necessary libraries</strong></li>\n",
    "</ul>\n",
    "\n",
    "### | [Choose Year](#velg-aargang) |\n",
    "<ul>\n",
    "  <li><strong>Declare the year you wish to work with</strong></li>\n",
    "</ul>\n",
    "\n",
    "### | [Visualisation](#visualisering) |\n",
    "<ul>\n",
    "  <li><strong>Collect the edited 'delreg' data and choose a plot to view</strong></li>\n",
    "  <ul>\n",
    "    <li><a href=\"#1\">Plot for single industry</a></li>\n",
    "    <li><a href=\"#2\">Plot for every industry</a></li>\n",
    "    <li><a href=\"#3\">Plot based on 2 digit industry level</a></li>\n",
    "    <li><a href=\"#4\">Heatmap</a></li>\n",
    "    <li><a href=\"#5\">Interactive thematic kommune map</a></li>\n",
    "    <li><a href=\"#6\">Animated thematic kommune map</a></li>\n",
    "    <li><a href=\"#7\">Cumulative Histogram</a></li>\n",
    "    <li><a href=\"#8\">Linked Plots</a></li>\n",
    "    <li><a href=\"#9\">Bubble Plot</a></li>\n",
    "    <li><a href=\"#10\">Parallel Coordinates Plot</a></li>\n",
    "    <li><a href=\"#11\">Geographical Plot</a></li>\n",
    "    <li><a href=\"#12\">Animated barchart</a></li>\n",
    "    <li><a href=\"#13\">3D Scatterplot</a></li>\n",
    "  </ul>   \n",
    "</ul>\n",
    "\n",
    "### | [Dashboard](#dashboard) |\n",
    "<ul>\n",
    "  <li><strong>Run and Open in another browser tab</strong></li>\n",
    "</ul>\n",
    "\n",
    "### | [ML Evaluation](#ml) |\n",
    "<ul>\n",
    "  <li><strong>Regression Problems:</strong></li>\n",
    "  <ul>\n",
    "    <li><a href=\"#14\">XGBOOST</a></li>\n",
    "    <li><a href=\"#15\">Nearest Neighbors</a></li>\n",
    "    <li><a href=\"#16\">Neural Networks</a></li>\n",
    "  </ul>\n",
    "  <li><strong>Classification Problems:</strong></li>\n",
    "  <ul>\n",
    "    <li><a href=\"#17\">XGBOOST</a></li>\n",
    "    <li><a href=\"#18\">Nearest Neighbors</a></li>\n",
    "  </ul>\n",
    "</ul>\n",
    "\n",
    "### | [Update File](#oppdateringsfil) |\n",
    "<ul>\n",
    "  <li><strong>Run update file for chosen year. Can compare performance if looking at previous year</strong></li>\n",
    "   <ul>\n",
    "    <li><a href=\"#19\">Test Restults</a></li>\n",
    "    <li><a href=\"#20\">Historic Test Results</a></li>\n",
    "  </ul>\n",
    "</ul>\n",
    "\n",
    "### | [Moving Forward](#future) |\n",
    "<ul>\n",
    "  <li><strong>What are the current challenges/opportunities facing us in the future</strong></li>\n",
    "</ul>\n",
    "</div>\n"
   ]
  },
  {
   "cell_type": "markdown",
   "id": "95663bbd-51a0-48c5-960a-ef58c943ceb3",
   "metadata": {
    "tags": []
   },
   "source": [
    "<a id='imports'></a>\n",
    "# | [Imports](#imports) |"
   ]
  },
  {
   "cell_type": "code",
   "execution_count": null,
   "id": "84f7479d-5e13-4a13-917f-6777021a22a0",
   "metadata": {
    "tags": []
   },
   "outputs": [],
   "source": [
    "from imports import *"
   ]
  },
  {
   "cell_type": "markdown",
   "id": "e89d194e-489e-4a03-a236-53aca8f93ae4",
   "metadata": {
    "tags": []
   },
   "source": [
    "<a id='velg_aargang'></a>\n",
    "# | [Choose Year](##velg_aargang) |"
   ]
  },
  {
   "cell_type": "code",
   "execution_count": 1,
   "id": "95b30a7c-bb7d-42f9-acb0-2efbedf7bfad",
   "metadata": {
    "tags": []
   },
   "outputs": [],
   "source": [
    "# skriv årgang\n",
    "aar = 2023"
   ]
  },
  {
   "cell_type": "markdown",
   "id": "f64562b1-803b-42b6-84b8-24918447e638",
   "metadata": {
    "tags": []
   },
   "source": [
    "<a id='visualisering'></a>\n",
    "# | [Visualisation](#visualisering) |"
   ]
  },
  {
   "cell_type": "code",
   "execution_count": null,
   "id": "6d2ffa67-012c-44e2-a942-0d20f0d2f201",
   "metadata": {
    "tags": []
   },
   "outputs": [],
   "source": [
    "# henter data for visualisering\n",
    "\n",
    "timeseries_knn_kommune, histogram_data, knn_data, timeseries_knn_agg, koordinates = visualisations.gather_visualisation_data(aar)"
   ]
  },
  {
   "cell_type": "markdown",
   "id": "0c7532d7-fccc-48ed-9247-c6cbda879184",
   "metadata": {
    "tags": []
   },
   "source": [
    "<a id='1'></a>\n",
    "#### Plot for single industry"
   ]
  },
  {
   "cell_type": "code",
   "execution_count": null,
   "id": "8eda983c-73d0-466f-97c0-6f0a25f830b7",
   "metadata": {
    "tags": []
   },
   "outputs": [],
   "source": [
    "visualisations.plots_time(timeseries_knn_agg)"
   ]
  },
  {
   "cell_type": "markdown",
   "id": "a2628ab5-b0d2-4acd-8f29-2607666b0ee9",
   "metadata": {},
   "source": [
    "<a id='2'></a>\n",
    "#### Plot for every industry"
   ]
  },
  {
   "cell_type": "code",
   "execution_count": null,
   "id": "0bc5ace6-e4ce-43e9-8c6c-5ac461b32f0a",
   "metadata": {
    "tags": []
   },
   "outputs": [],
   "source": [
    "visualisations.plot_all_time(timeseries_knn_agg)"
   ]
  },
  {
   "cell_type": "markdown",
   "id": "99be892d-739b-4572-b250-eedb48055071",
   "metadata": {},
   "source": [
    "<a id='3'></a>\n",
    "#### Plot based on 2 digit industry level"
   ]
  },
  {
   "cell_type": "code",
   "execution_count": null,
   "id": "f3186324-cd2f-4668-b2d7-7f7c7672bc38",
   "metadata": {
    "tags": []
   },
   "outputs": [],
   "source": [
    "visualisations.plot_n2(timeseries_knn_agg)"
   ]
  },
  {
   "cell_type": "markdown",
   "id": "5b2224c6-547d-460a-8da6-20743160d534",
   "metadata": {},
   "source": [
    "<a id='4'></a>\n",
    "#### Heatmap"
   ]
  },
  {
   "cell_type": "code",
   "execution_count": null,
   "id": "27ef976a-00da-4461-936f-0ff03048c841",
   "metadata": {
    "tags": []
   },
   "outputs": [],
   "source": [
    "visualisations.heatmap(timeseries_knn_agg)"
   ]
  },
  {
   "cell_type": "markdown",
   "id": "a0deed01-0075-4cbb-8050-d8541fce6b49",
   "metadata": {},
   "source": [
    "<a id='5'></a>\n",
    "#### Interactive thematic kommune map"
   ]
  },
  {
   "cell_type": "code",
   "execution_count": null,
   "id": "e1ba0129-c8b2-4b90-9a80-4c1cc262aea8",
   "metadata": {
    "tags": []
   },
   "outputs": [],
   "source": [
    "visualisations.thematic_kommune(timeseries_knn_kommune)"
   ]
  },
  {
   "cell_type": "markdown",
   "id": "46f3ee4a-aac2-42db-ad9c-c6a364108c0a",
   "metadata": {
    "tags": []
   },
   "source": [
    "<a id='6'></a>\n",
    "#### Animated thematic kommune map"
   ]
  },
  {
   "cell_type": "code",
   "execution_count": null,
   "id": "f869cae0-0269-4ba8-a7a3-ecd8f5885ca7",
   "metadata": {
    "tags": []
   },
   "outputs": [],
   "source": [
    "visualisations.animated_thematic_kommune(timeseries_knn_kommune)"
   ]
  },
  {
   "cell_type": "markdown",
   "id": "5f8d8ef8-3a75-4ecc-8ee6-e2ab0b5d98e1",
   "metadata": {},
   "source": [
    "<a id='7'></a>\n",
    "#### Cumulative Histogram"
   ]
  },
  {
   "cell_type": "code",
   "execution_count": null,
   "id": "546279b0-1e48-42a1-a7ab-6215f8e3297c",
   "metadata": {
    "tags": []
   },
   "outputs": [],
   "source": [
    "visualisations.cumulative_histogram(histogram_data)"
   ]
  },
  {
   "cell_type": "markdown",
   "id": "2a2efef0-046d-489c-bfba-3167e2540a87",
   "metadata": {},
   "source": [
    "<a id='8'></a>\n",
    "#### Linked Plots"
   ]
  },
  {
   "cell_type": "code",
   "execution_count": null,
   "id": "49277bdb-5327-4fbb-ab29-dca13830e74f",
   "metadata": {
    "tags": []
   },
   "outputs": [],
   "source": [
    "visualisations.linked_plots(timeseries_knn_agg)"
   ]
  },
  {
   "cell_type": "markdown",
   "id": "872d1b4f-db32-4132-88dd-7bbb15f763b3",
   "metadata": {
    "tags": []
   },
   "source": [
    "<a id='9'></a>\n",
    "#### Bubble Plot"
   ]
  },
  {
   "cell_type": "code",
   "execution_count": null,
   "id": "b0a1f64a-39fb-403b-8984-28ba1ee65fc6",
   "metadata": {
    "tags": []
   },
   "outputs": [],
   "source": [
    "visualisations.bubble_plot(timeseries_knn_kommune)"
   ]
  },
  {
   "cell_type": "markdown",
   "id": "9b8c3da2-9a69-4497-a451-5d0f6461daca",
   "metadata": {},
   "source": [
    "<a id='10'></a>\n",
    "#### Parallel Coordinates Plot"
   ]
  },
  {
   "cell_type": "code",
   "execution_count": null,
   "id": "ef0c53d8-7120-4370-ad01-552427037178",
   "metadata": {
    "tags": []
   },
   "outputs": [],
   "source": [
    "visualisations.parallel_coordinates(timeseries_knn_agg)"
   ]
  },
  {
   "cell_type": "markdown",
   "id": "643335bf-3351-45c8-8559-8e70befe112a",
   "metadata": {},
   "source": [
    "<a id='11'></a>\n",
    "#### Geographical Plot"
   ]
  },
  {
   "cell_type": "code",
   "execution_count": null,
   "id": "7a5141eb-cbce-4106-8eb4-2c8831ca6f49",
   "metadata": {
    "tags": []
   },
   "outputs": [],
   "source": [
    "visualisations.geomapping(koordinates)"
   ]
  },
  {
   "cell_type": "markdown",
   "id": "b3489bcc-cb5f-4bf9-840d-378d44ded0d5",
   "metadata": {},
   "source": [
    "<a id='12'></a>\n",
    "#### Animated barchart"
   ]
  },
  {
   "cell_type": "code",
   "execution_count": null,
   "id": "9a112b3d-d89c-4e71-ae07-5097cbb9691f",
   "metadata": {
    "tags": []
   },
   "outputs": [],
   "source": [
    "visualisations.animated_barchart(timeseries_knn_agg)"
   ]
  },
  {
   "cell_type": "markdown",
   "id": "0a57f2bb-5666-4577-8767-69a5f2a1870e",
   "metadata": {},
   "source": [
    "<a id='13'></a>\n",
    "#### 3D Scatterplot"
   ]
  },
  {
   "cell_type": "code",
   "execution_count": null,
   "id": "76228aa5-cbdb-46c8-8c21-1139588a18ec",
   "metadata": {
    "tags": []
   },
   "outputs": [],
   "source": [
    "visualisations.scatter_3d(timeseries_knn_agg)"
   ]
  },
  {
   "cell_type": "markdown",
   "id": "28a059dc-980a-4d1d-aa4e-fa58d93a7cb0",
   "metadata": {},
   "source": [
    "# <a id='dashboard'></a>\n",
    "# | [Dashboard](#dashboard) |"
   ]
  },
  {
   "cell_type": "code",
   "execution_count": null,
   "id": "ce820ef1-1b3e-416d-9a3b-e17321fa734e",
   "metadata": {
    "tags": []
   },
   "outputs": [],
   "source": [
    "app, port, service_prefix, domain = dash_application.run_dash_app(aar, timeseries_knn_kommune, histogram_data, knn_data, timeseries_knn_agg, koordinates)\n",
    "\n",
    "if __name__ == \"__main__\":\n",
    "    app.run(debug=True, port=port, jupyter_server_url=domain, jupyter_mode=\"tab\", use_reloader=False)"
   ]
  },
  {
   "cell_type": "markdown",
   "id": "c6805794-5c23-4b93-90db-cc5c426a8fa8",
   "metadata": {},
   "source": [
    "# <a id='ml'></a>\n",
    "# | [ML Evaluation](#ml) |"
   ]
  },
  {
   "cell_type": "code",
   "execution_count": null,
   "id": "92ba2370-4ac1-493e-98de-448abae89327",
   "metadata": {
    "tags": []
   },
   "outputs": [],
   "source": [
    "# Hente data\n",
    "del timeseries_knn_kommune, histogram_data, knn_data, timeseries_knn_agg, koordinates\n",
    "\n",
    "training_data, imputatable_df, foretak_pub = ml_modeller.hente_training_data()"
   ]
  },
  {
   "cell_type": "markdown",
   "id": "48615e96-dcbd-4c49-868b-f2a5fa290266",
   "metadata": {
    "tags": []
   },
   "source": [
    "# <a id='regression-problemer'></a>\n",
    "### [Regression Problemer](#regression-problemer)"
   ]
  },
  {
   "cell_type": "markdown",
   "id": "588b82d4-044d-43af-bdbb-4a5ae07fee20",
   "metadata": {},
   "source": [
    "# <a id='14'></a>\n",
    "#### [XG BOOST](#14)"
   ]
  },
  {
   "cell_type": "code",
   "execution_count": null,
   "id": "8e8fc142-883e-4d3a-a275-38ca0eb13e25",
   "metadata": {
    "tags": []
   },
   "outputs": [],
   "source": [
    "# Choose Scaler (StandardScaler, MinMaxScaler, RobustScaler)\n",
    "scaler = RobustScaler()\n",
    "\n",
    "# Turn off GridSearch for faster run time\n",
    "GridSearch=False\n",
    "\n",
    "results = ml_modeller.xgboost_model(training_data, scaler, imputatable_df, GridSearch=GridSearch)\n",
    "\n",
    "# Best result for GridSearch so far:"
   ]
  },
  {
   "cell_type": "markdown",
   "id": "bfe9f47c-4540-48b2-b642-949dc5006641",
   "metadata": {},
   "source": [
    "# <a id='15'></a>\n",
    "#### [Nearest Neighbors](#15)"
   ]
  },
  {
   "cell_type": "code",
   "execution_count": null,
   "id": "6f79374a-0409-48b9-b0b6-5c7ff0e95548",
   "metadata": {
    "tags": []
   },
   "outputs": [],
   "source": [
    "# velg Scaler (StandardScaler, MinMaxScaler, RobustScaler)\n",
    "scaler = RobustScaler()\n",
    "\n",
    "# Turn off GridSearch for faster run time\n",
    "GridSearch=False\n",
    "\n",
    "results = ml_modeller.knn_model(training_data, scaler, imputatable_df, GridSearch=GridSearch)\n",
    "\n",
    "# Best result for GridSearch so far:\n",
    "# Best parameters found by GridSearch: {'n_neighbors': 2}\n"
   ]
  },
  {
   "cell_type": "markdown",
   "id": "233ecbee-9c1a-4bdf-92fc-e32ae283aab5",
   "metadata": {},
   "source": [
    "# <a id='16'></a>\n",
    "#### [Neural Networks](#16)"
   ]
  },
  {
   "cell_type": "code",
   "execution_count": null,
   "id": "bb070311-998e-48d5-9c22-69df5bdb03ae",
   "metadata": {
    "tags": []
   },
   "outputs": [],
   "source": [
    "# choose Scaler (StandardScaler, MinMaxScaler, RobustScaler)\n",
    "scaler = RobustScaler()\n",
    "\n",
    "# choose epoch number and batch size (more = faster, less = possibly better learning/convergence ) If using GridSearch these numbers wont matter.\n",
    "# GridSearch will take a long time to run. \n",
    "epochs_number = 200\n",
    "batch_size = 500\n",
    "GridSearch=False\n",
    "\n",
    "# results = ml_modeller.nn_model_1(training_data, scaler, epochs_number, batch_size, imputatable_df, GridSearch=GridSearch)\n",
    "results = ml_modeller.nn_model_2(training_data, scaler, epochs_number, batch_size, imputatable_df)\n",
    "\n"
   ]
  },
  {
   "cell_type": "markdown",
   "id": "1ad8dce6-8910-4d4b-9754-df547b9ac4ee",
   "metadata": {
    "tags": []
   },
   "source": [
    "# <a id='klassifikasjon-problemer'></a>\n",
    "### [Classification Problems](#klassifikasjon-problemer)"
   ]
  },
  {
   "cell_type": "markdown",
   "id": "cc6b42ac-adf9-4c20-8c8a-f094feb9cbae",
   "metadata": {
    "tags": []
   },
   "source": [
    "<a id='17'></a>\n",
    "#### [XGBOOST](#17)"
   ]
  },
  {
   "cell_type": "code",
   "execution_count": null,
   "id": "1e11f243-5121-4bf1-9203-46eba984d87c",
   "metadata": {
    "tags": []
   },
   "outputs": [],
   "source": [
    "results = ml_modeller.xgboost_n3_klass(foretak_pub)"
   ]
  },
  {
   "cell_type": "markdown",
   "id": "baae86ff-9b80-411b-8371-d7e592f2a878",
   "metadata": {
    "tags": []
   },
   "source": [
    "<a id='18'></a>\n",
    "#### [Nearest Neighbors](#18)"
   ]
  },
  {
   "cell_type": "code",
   "execution_count": null,
   "id": "25fad580-c870-4d01-b847-1de2ef881671",
   "metadata": {
    "tags": []
   },
   "outputs": [],
   "source": [
    "results = ml_modeller.knn_n3_klass(foretak_pub)"
   ]
  },
  {
   "cell_type": "markdown",
   "id": "c895c05e-53ca-4b87-9128-79ed1e170847",
   "metadata": {
    "tags": []
   },
   "source": [
    "# <a id='oppdateringsfil'></a>\n",
    "# | [Update File](#oppdateringsfil) |"
   ]
  },
  {
   "cell_type": "code",
   "execution_count": null,
   "id": "51e1728a-f540-4045-ac28-c259ec85b325",
   "metadata": {
    "tags": []
   },
   "outputs": [],
   "source": [
    "year = 2021\n",
    "# Choose between knn_model, xgboost_model or nn_model\n",
    "model = 'knn_model'\n",
    "rate = 0.65\n",
    "scaler = RobustScaler()\n",
    "GridSearch=False\n",
    "\n",
    "update_file, timeseries_knn_agg, timeseries_knn__kommune_agg, check_totals, check_manually = oppdateringsfil.create_bedrift_fil(year, model, rate, scaler, GridSearch=GridSearch)\n",
    "\n"
   ]
  },
  {
   "cell_type": "markdown",
   "id": "f9f04a48-bc49-47df-93f7-aeda3aa43dd4",
   "metadata": {
    "tags": []
   },
   "source": [
    "# <a id='19'></a>\n",
    "### Test Results"
   ]
  },
  {
   "cell_type": "code",
   "execution_count": null,
   "id": "a94e4794-d404-4398-abc6-56c5957dfec7",
   "metadata": {
    "tags": []
   },
   "outputs": [],
   "source": [
    "# change pd option to show all rows\n",
    "pd.set_option('display.max_rows', None)\n",
    "check_totals.head(25)"
   ]
  },
  {
   "cell_type": "code",
   "execution_count": null,
   "id": "401ec848-a7e0-417e-9384-6b6066c11203",
   "metadata": {
    "tags": []
   },
   "outputs": [],
   "source": [
    "visualisations.guage(check_totals)"
   ]
  },
  {
   "cell_type": "code",
   "execution_count": null,
   "id": "da2356bd-4575-404c-81fe-91d08c385447",
   "metadata": {
    "tags": []
   },
   "outputs": [],
   "source": [
    "visualisations.thermometer(check_totals)"
   ]
  },
  {
   "cell_type": "code",
   "execution_count": null,
   "id": "82c30621-74c8-4dd9-a6da-e42662afb3d3",
   "metadata": {
    "tags": []
   },
   "outputs": [],
   "source": [
    "results = ml_modeller.test_results(update_file, aar)"
   ]
  },
  {
   "cell_type": "markdown",
   "id": "db598418-ed03-41f9-aaa2-73d8d3be287e",
   "metadata": {},
   "source": [
    "---------------------------------------------------------------------------------------------------------------------------------"
   ]
  },
  {
   "cell_type": "markdown",
   "id": "049a15c5-2ca2-4d87-a39c-c07a0429731b",
   "metadata": {},
   "source": [
    "# <a id='20'></a>\n",
    "### Historic Results:"
   ]
  },
  {
   "cell_type": "markdown",
   "id": "311b4410-9a21-423e-8c0c-ce5b8d44f801",
   "metadata": {},
   "source": [
    "#### 2021 XGBOOST:\n",
    "\n",
    "- Mean Absolute Error for entire delreg: 8432.291199426325\n",
    "- R² Score for entire delreg: 0.9606052910127973\n",
    "-----------------------------------\n",
    "- Mean Absolute Error for reg_type 02: 7087.746839112336\n",
    "- R² Score for reg_type 02: 0.9232697374725767\n",
    "\n",
    "\n",
    "#### 2021 K-Nearest Neighbors:\n",
    "\n",
    "- Mean Absolute Error for entire delreg: 6559.171895864407\n",
    "- R² Score for entire delreg: 0.982181406248118\n",
    "-----------------------------------\n",
    "- Mean Absolute Error for reg_type 02: 5615.106485704415\n",
    "- R² Score for reg_type 02: 0.966718048747369\n",
    "\n",
    "#### 2021 Neural Network:\n",
    "\n",
    "Mean Absolute Error for entire delreg: 6728.031814063407\n",
    "R² Score for entire delreg: 0.9820746908179295\n",
    "-----------------------------------\n",
    "Mean Absolute Error for reg_type 02: 5719.670829491291\n",
    "R² Score for reg_type 02: 0.9665182851658081"
   ]
  },
  {
   "cell_type": "markdown",
   "id": "4b5e3d65-dac4-41ec-a8e0-92114b05ba87",
   "metadata": {},
   "source": [
    "--------------------------------------------------------------------------------------------------------------------------------\n",
    "# <a id='future'></a>\n",
    "<div style=\"background-color: #ffffff; padding: 20px; font-size: 28px; font-weight: bold; text-align: center; border-radius: 10px; box-shadow: 0 4px 8px rgba(0, 0, 0, 0.1);\">\n",
    "  <span style=\"color: #4CAF50;\">Moving Forward.....</span>\n",
    "</div>\n",
    "\n",
    "---------------------------------------------------------------------------------------------------------------------------------\n",
    "--------------------------------------------------------------------------------------------------------------------------------"
   ]
  },
  {
   "cell_type": "markdown",
   "id": "23",
   "metadata": {},
   "source": [
    "# Co-operation with other sections"
   ]
  },
  {
   "cell_type": "markdown",
   "id": "24",
   "metadata": {},
   "source": [
    "#### A lot of potential here:\n",
    "\n",
    "- S422 Has transaction data on a virksomhet level (but only international transactions and credit card data). This needs to be explored. There will be challenges but could be very useful. \n",
    "\n",
    "- The naring classification machine learning algorithms need to be improved and explored. I have only used financial data so far - with lack luster results, but there is a lot of potential to use 'yrke' data as well as implement more feature engineering. We can get this data from VoF\n",
    "\n",
    "- It could be beneficial to create specific machine learning algorithms for each industry. For example 47.3 could benefit from road/highway network analyis (Data from SSB's SSIG package). We are able to calculate things like distance to nearest public transport, how often a road is used, distance via road to nearest gas station etc. This could be very useful but this would take a lot of resources - perhaps everyone should devlop their own machine learning algorithms for the industries they have responsibility for. \n",
    "\n",
    "#### Things left to do:\n",
    "\n",
    "- controls for industrial variables are nearly finished, just a few bugs that need fixing. \n",
    "- the GridSearch for the Neural Network model is computationally heavy and will take a long time to run - but it may be worth running one time and saving the results for future runs. "
   ]
  },
  {
   "cell_type": "markdown",
   "id": "29",
   "metadata": {},
   "source": [
    "# Network Analysis"
   ]
  },
  {
   "cell_type": "code",
   "execution_count": null,
   "id": "fae73ea1-ad16-476c-8dd8-f64b3bcf3475",
   "metadata": {
    "tags": []
   },
   "outputs": [],
   "source": [
    "import knn\n",
    "import networks\n",
    "\n",
    "# Add enhet number here\n",
    "enhet = ''\n",
    "\n",
    "# Collect locations for a single enhet\n",
    "enhet_df, _, _, _, _ = knn.knn(aar, enhet)\n",
    "\n",
    "# Collect road frequencies data\n",
    "frequencies = networks.networks(aar)\n",
    "\n",
    "# Filter the dataset as the networks dataset is very large and is computationally heavy\n",
    "filtered_df = enhet_df[enhet_df[\"kommune\"].str.startswith(\"03\")]"
   ]
  },
  {
   "cell_type": "code",
   "execution_count": null,
   "id": "e70e8b14-bc96-41b2-9239-4c7e8dbfa911",
   "metadata": {
    "tags": []
   },
   "outputs": [],
   "source": [
    "# Available colormaps in sgis\n",
    "colormaps = [\"viridis\", \"inferno\", \"magma\", \"cividis\", \"coolwarm\", \"Spectral\", \"RdYlBu\", \"plasma\"]\n",
    "\n",
    "m = sg.ThematicMap(sg.buff(frequencies, 18), filtered_df, column=\"frequency\", size=15)\n",
    "m.black = True\n",
    "m.cmap = \"plasma\"  # You can change this to any of the colormaps listed above\n",
    "m.title = \"How often each road has been used\"\n",
    "m.legend.title = \"Count\"\n",
    "m.plot()"
   ]
  }
 ],
 "metadata": {
  "kernelspec": {
   "display_name": "noku-ml",
   "language": "python",
   "name": "noku-ml"
  },
  "language_info": {
   "codemirror_mode": {
    "name": "ipython",
    "version": 3
   },
   "file_extension": ".py",
   "mimetype": "text/x-python",
   "name": "python",
   "nbconvert_exporter": "python",
   "pygments_lexer": "ipython3",
   "version": "3.10.9"
  }
 },
 "nbformat": 4,
 "nbformat_minor": 5
}
